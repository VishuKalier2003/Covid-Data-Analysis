{
 "cells": [
  {
   "cell_type": "code",
   "execution_count": 3,
   "id": "99250a9a",
   "metadata": {},
   "outputs": [],
   "source": [
    "import pandas as pd\n",
    "import numpy as np\n",
    "import matplotlib.pyplot as plt\n",
    "import seaborn as sn"
   ]
  },
  {
   "cell_type": "code",
   "execution_count": 4,
   "id": "d620a34b",
   "metadata": {},
   "outputs": [],
   "source": [
    "data = pd.read_csv('./all_weekly_excess_deaths.csv')"
   ]
  },
  {
   "cell_type": "code",
   "execution_count": 5,
   "id": "9397fee6",
   "metadata": {},
   "outputs": [],
   "source": [
    "datacopy = data.copy()"
   ]
  },
  {
   "cell_type": "code",
   "execution_count": 6,
   "id": "bcdb80bc",
   "metadata": {},
   "outputs": [
    {
     "data": {
      "text/plain": [
       "(5770, 17)"
      ]
     },
     "execution_count": 6,
     "metadata": {},
     "output_type": "execute_result"
    }
   ],
   "source": [
    "data.shape     # 5770 x 17"
   ]
  },
  {
   "cell_type": "code",
   "execution_count": 7,
   "id": "6a0e7783",
   "metadata": {},
   "outputs": [
    {
     "data": {
      "text/plain": [
       "Index(['country', 'region', 'region_code', 'start_date', 'end_date', 'days',\n",
       "       'year', 'week', 'population', 'total_deaths', 'covid_deaths',\n",
       "       'expected_deaths', 'excess_deaths', 'non_covid_deaths',\n",
       "       'covid_deaths_per_100k', 'excess_deaths_per_100k',\n",
       "       'excess_deaths_pct_change'],\n",
       "      dtype='object')"
      ]
     },
     "execution_count": 7,
     "metadata": {},
     "output_type": "execute_result"
    }
   ],
   "source": [
    "data.columns"
   ]
  },
  {
   "cell_type": "code",
   "execution_count": 8,
   "id": "afcbfddf",
   "metadata": {},
   "outputs": [
    {
     "data": {
      "text/plain": [
       "(5770, 17)"
      ]
     },
     "execution_count": 8,
     "metadata": {},
     "output_type": "execute_result"
    }
   ],
   "source": [
    "data.shape     # 5768 x 15"
   ]
  },
  {
   "cell_type": "code",
   "execution_count": 9,
   "id": "29500c11",
   "metadata": {},
   "outputs": [],
   "source": [
    "deaths = data[['total_deaths', 'covid_deaths', 'expected_deaths', 'excess_deaths', 'non_covid_deaths']]\n",
    "deaths.shape      # 5768 x 5\n",
    "deaths = deaths.astype('int32')"
   ]
  },
  {
   "cell_type": "code",
   "execution_count": 10,
   "id": "2402bbd7",
   "metadata": {},
   "outputs": [
    {
     "data": {
      "text/plain": [
       "(5770, 2)"
      ]
     },
     "execution_count": 10,
     "metadata": {},
     "output_type": "execute_result"
    }
   ],
   "source": [
    "interval = data[['days', 'year']]\n",
    "interval.shape    # 5768 x 2"
   ]
  },
  {
   "cell_type": "code",
   "execution_count": 11,
   "id": "b24d59a9",
   "metadata": {},
   "outputs": [
    {
     "data": {
      "text/plain": [
       "(5770, 6)"
      ]
     },
     "execution_count": 11,
     "metadata": {},
     "output_type": "execute_result"
    }
   ],
   "source": [
    "deaths.first_valid_index()\n",
    "deaths['covid_death_ratio'] = deaths['total_deaths']/deaths['covid_deaths']\n",
    "deaths.shape      # 5768 x 6"
   ]
  },
  {
   "cell_type": "code",
   "execution_count": 12,
   "id": "20aeadc4",
   "metadata": {},
   "outputs": [],
   "source": [
    "data['start_date'] = pd.to_datetime(data['start_date'])\n",
    "data['end_date'] = pd.to_datetime(data['end_date'])\n",
    "data['month'] = pd.DatetimeIndex(data['start_date']).month"
   ]
  },
  {
   "cell_type": "code",
   "execution_count": 13,
   "id": "5e323fbd",
   "metadata": {},
   "outputs": [
    {
     "data": {
      "text/plain": [
       "(12, 5)"
      ]
     },
     "execution_count": 13,
     "metadata": {},
     "output_type": "execute_result"
    }
   ],
   "source": [
    "month_file = data.groupby('month')[['total_deaths', 'covid_deaths', 'expected_deaths', 'excess_deaths', 'non_covid_deaths']].sum()\n",
    "month_file.shape       # 12 x 5"
   ]
  },
  {
   "cell_type": "code",
   "execution_count": 14,
   "id": "60fe9015",
   "metadata": {},
   "outputs": [
    {
     "data": {
      "text/plain": [
       "(3, 5)"
      ]
     },
     "execution_count": 14,
     "metadata": {},
     "output_type": "execute_result"
    }
   ],
   "source": [
    "year_file = data.groupby('year')[['total_deaths', 'covid_deaths', 'expected_deaths', 'excess_deaths', 'non_covid_deaths']].sum()\n",
    "year_file.shape        # 3 x 5"
   ]
  },
  {
   "cell_type": "code",
   "execution_count": 15,
   "id": "2741d6c2",
   "metadata": {},
   "outputs": [
    {
     "data": {
      "text/html": [
       "<div>\n",
       "<style scoped>\n",
       "    .dataframe tbody tr th:only-of-type {\n",
       "        vertical-align: middle;\n",
       "    }\n",
       "\n",
       "    .dataframe tbody tr th {\n",
       "        vertical-align: top;\n",
       "    }\n",
       "\n",
       "    .dataframe thead th {\n",
       "        text-align: right;\n",
       "    }\n",
       "</style>\n",
       "<table border=\"1\" class=\"dataframe\">\n",
       "  <thead>\n",
       "    <tr style=\"text-align: right;\">\n",
       "      <th></th>\n",
       "      <th>total_deaths</th>\n",
       "      <th>covid_deaths</th>\n",
       "      <th>expected_deaths</th>\n",
       "      <th>excess_deaths</th>\n",
       "      <th>non_covid_deaths</th>\n",
       "    </tr>\n",
       "    <tr>\n",
       "      <th>month</th>\n",
       "      <th></th>\n",
       "      <th></th>\n",
       "      <th></th>\n",
       "      <th></th>\n",
       "      <th></th>\n",
       "    </tr>\n",
       "  </thead>\n",
       "  <tbody>\n",
       "    <tr>\n",
       "      <th>1</th>\n",
       "      <td>3814254.1</td>\n",
       "      <td>488474</td>\n",
       "      <td>3.245971e+06</td>\n",
       "      <td>568283.222294</td>\n",
       "      <td>3325780.1</td>\n",
       "    </tr>\n",
       "    <tr>\n",
       "      <th>2</th>\n",
       "      <td>3119717.1</td>\n",
       "      <td>367092</td>\n",
       "      <td>2.899179e+06</td>\n",
       "      <td>220538.356204</td>\n",
       "      <td>2752625.1</td>\n",
       "    </tr>\n",
       "    <tr>\n",
       "      <th>3</th>\n",
       "      <td>3441103.2</td>\n",
       "      <td>327925</td>\n",
       "      <td>3.150416e+06</td>\n",
       "      <td>290687.413976</td>\n",
       "      <td>3113178.2</td>\n",
       "    </tr>\n",
       "    <tr>\n",
       "      <th>4</th>\n",
       "      <td>3013393.3</td>\n",
       "      <td>367172</td>\n",
       "      <td>2.598328e+06</td>\n",
       "      <td>415065.090880</td>\n",
       "      <td>2646221.3</td>\n",
       "    </tr>\n",
       "    <tr>\n",
       "      <th>5</th>\n",
       "      <td>3066692.5</td>\n",
       "      <td>252806</td>\n",
       "      <td>2.784071e+06</td>\n",
       "      <td>282621.703701</td>\n",
       "      <td>2813886.5</td>\n",
       "    </tr>\n",
       "    <tr>\n",
       "      <th>6</th>\n",
       "      <td>2496349.1</td>\n",
       "      <td>161654</td>\n",
       "      <td>2.235775e+06</td>\n",
       "      <td>260574.267531</td>\n",
       "      <td>2334695.1</td>\n",
       "    </tr>\n",
       "    <tr>\n",
       "      <th>7</th>\n",
       "      <td>2053643.1</td>\n",
       "      <td>144799</td>\n",
       "      <td>1.758319e+06</td>\n",
       "      <td>295324.498204</td>\n",
       "      <td>1908844.1</td>\n",
       "    </tr>\n",
       "    <tr>\n",
       "      <th>8</th>\n",
       "      <td>2507629.8</td>\n",
       "      <td>220546</td>\n",
       "      <td>2.061507e+06</td>\n",
       "      <td>446122.841445</td>\n",
       "      <td>2287083.8</td>\n",
       "    </tr>\n",
       "    <tr>\n",
       "      <th>9</th>\n",
       "      <td>1965364.3</td>\n",
       "      <td>175256</td>\n",
       "      <td>1.661991e+06</td>\n",
       "      <td>303373.427418</td>\n",
       "      <td>1790108.3</td>\n",
       "    </tr>\n",
       "    <tr>\n",
       "      <th>10</th>\n",
       "      <td>2071703.2</td>\n",
       "      <td>187214</td>\n",
       "      <td>1.755236e+06</td>\n",
       "      <td>316467.228789</td>\n",
       "      <td>1884489.2</td>\n",
       "    </tr>\n",
       "    <tr>\n",
       "      <th>11</th>\n",
       "      <td>2739608.3</td>\n",
       "      <td>358056</td>\n",
       "      <td>2.167738e+06</td>\n",
       "      <td>571869.892470</td>\n",
       "      <td>2381552.3</td>\n",
       "    </tr>\n",
       "    <tr>\n",
       "      <th>12</th>\n",
       "      <td>2586123.2</td>\n",
       "      <td>330817</td>\n",
       "      <td>2.102319e+06</td>\n",
       "      <td>483804.597778</td>\n",
       "      <td>2255306.2</td>\n",
       "    </tr>\n",
       "  </tbody>\n",
       "</table>\n",
       "</div>"
      ],
      "text/plain": [
       "       total_deaths  covid_deaths  expected_deaths  excess_deaths  \\\n",
       "month                                                               \n",
       "1         3814254.1        488474     3.245971e+06  568283.222294   \n",
       "2         3119717.1        367092     2.899179e+06  220538.356204   \n",
       "3         3441103.2        327925     3.150416e+06  290687.413976   \n",
       "4         3013393.3        367172     2.598328e+06  415065.090880   \n",
       "5         3066692.5        252806     2.784071e+06  282621.703701   \n",
       "6         2496349.1        161654     2.235775e+06  260574.267531   \n",
       "7         2053643.1        144799     1.758319e+06  295324.498204   \n",
       "8         2507629.8        220546     2.061507e+06  446122.841445   \n",
       "9         1965364.3        175256     1.661991e+06  303373.427418   \n",
       "10        2071703.2        187214     1.755236e+06  316467.228789   \n",
       "11        2739608.3        358056     2.167738e+06  571869.892470   \n",
       "12        2586123.2        330817     2.102319e+06  483804.597778   \n",
       "\n",
       "       non_covid_deaths  \n",
       "month                    \n",
       "1             3325780.1  \n",
       "2             2752625.1  \n",
       "3             3113178.2  \n",
       "4             2646221.3  \n",
       "5             2813886.5  \n",
       "6             2334695.1  \n",
       "7             1908844.1  \n",
       "8             2287083.8  \n",
       "9             1790108.3  \n",
       "10            1884489.2  \n",
       "11            2381552.3  \n",
       "12            2255306.2  "
      ]
     },
     "execution_count": 15,
     "metadata": {},
     "output_type": "execute_result"
    }
   ],
   "source": [
    "month_file"
   ]
  },
  {
   "cell_type": "code",
   "execution_count": 16,
   "id": "6557d547",
   "metadata": {},
   "outputs": [
    {
     "data": {
      "text/html": [
       "<div>\n",
       "<style scoped>\n",
       "    .dataframe tbody tr th:only-of-type {\n",
       "        vertical-align: middle;\n",
       "    }\n",
       "\n",
       "    .dataframe tbody tr th {\n",
       "        vertical-align: top;\n",
       "    }\n",
       "\n",
       "    .dataframe thead th {\n",
       "        text-align: right;\n",
       "    }\n",
       "</style>\n",
       "<table border=\"1\" class=\"dataframe\">\n",
       "  <thead>\n",
       "    <tr style=\"text-align: right;\">\n",
       "      <th></th>\n",
       "      <th>total_deaths</th>\n",
       "      <th>covid_deaths</th>\n",
       "      <th>expected_deaths</th>\n",
       "      <th>excess_deaths</th>\n",
       "      <th>non_covid_deaths</th>\n",
       "    </tr>\n",
       "    <tr>\n",
       "      <th>year</th>\n",
       "      <th></th>\n",
       "      <th></th>\n",
       "      <th></th>\n",
       "      <th></th>\n",
       "      <th></th>\n",
       "    </tr>\n",
       "  </thead>\n",
       "  <tbody>\n",
       "    <tr>\n",
       "      <th>2020</th>\n",
       "      <td>13508.6628</td>\n",
       "      <td>1219.162</td>\n",
       "      <td>11697.270559</td>\n",
       "      <td>1811.392241</td>\n",
       "      <td>12289.5008</td>\n",
       "    </tr>\n",
       "    <tr>\n",
       "      <th>2021</th>\n",
       "      <td>13670.8969</td>\n",
       "      <td>1654.330</td>\n",
       "      <td>11496.637260</td>\n",
       "      <td>2174.259640</td>\n",
       "      <td>12016.5669</td>\n",
       "    </tr>\n",
       "    <tr>\n",
       "      <th>2022</th>\n",
       "      <td>5696.0215</td>\n",
       "      <td>508.319</td>\n",
       "      <td>5226.940841</td>\n",
       "      <td>469.080659</td>\n",
       "      <td>5187.7025</td>\n",
       "    </tr>\n",
       "  </tbody>\n",
       "</table>\n",
       "</div>"
      ],
      "text/plain": [
       "      total_deaths  covid_deaths  expected_deaths  excess_deaths  \\\n",
       "year                                                               \n",
       "2020    13508.6628      1219.162     11697.270559    1811.392241   \n",
       "2021    13670.8969      1654.330     11496.637260    2174.259640   \n",
       "2022     5696.0215       508.319      5226.940841     469.080659   \n",
       "\n",
       "      non_covid_deaths  \n",
       "year                    \n",
       "2020        12289.5008  \n",
       "2021        12016.5669  \n",
       "2022         5187.7025  "
      ]
     },
     "execution_count": 16,
     "metadata": {},
     "output_type": "execute_result"
    }
   ],
   "source": [
    "year_file = year_file / 1000\n",
    "year_file"
   ]
  },
  {
   "cell_type": "code",
   "execution_count": 17,
   "id": "6ac7f610",
   "metadata": {},
   "outputs": [
    {
     "data": {
      "text/html": [
       "<div>\n",
       "<style scoped>\n",
       "    .dataframe tbody tr th:only-of-type {\n",
       "        vertical-align: middle;\n",
       "    }\n",
       "\n",
       "    .dataframe tbody tr th {\n",
       "        vertical-align: top;\n",
       "    }\n",
       "\n",
       "    .dataframe thead th {\n",
       "        text-align: right;\n",
       "    }\n",
       "</style>\n",
       "<table border=\"1\" class=\"dataframe\">\n",
       "  <thead>\n",
       "    <tr style=\"text-align: right;\">\n",
       "      <th></th>\n",
       "      <th>total_deaths</th>\n",
       "      <th>covid_deaths</th>\n",
       "      <th>expected_deaths</th>\n",
       "      <th>excess_deaths</th>\n",
       "      <th>non_covid_deaths</th>\n",
       "      <th>deaths_million</th>\n",
       "    </tr>\n",
       "    <tr>\n",
       "      <th>year</th>\n",
       "      <th></th>\n",
       "      <th></th>\n",
       "      <th></th>\n",
       "      <th></th>\n",
       "      <th></th>\n",
       "      <th></th>\n",
       "    </tr>\n",
       "  </thead>\n",
       "  <tbody>\n",
       "    <tr>\n",
       "      <th>2020</th>\n",
       "      <td>13508.6628</td>\n",
       "      <td>1219.162</td>\n",
       "      <td>11697.270559</td>\n",
       "      <td>1811.392241</td>\n",
       "      <td>12289.5008</td>\n",
       "      <td>millions</td>\n",
       "    </tr>\n",
       "    <tr>\n",
       "      <th>2021</th>\n",
       "      <td>13670.8969</td>\n",
       "      <td>1654.330</td>\n",
       "      <td>11496.637260</td>\n",
       "      <td>2174.259640</td>\n",
       "      <td>12016.5669</td>\n",
       "      <td>millions</td>\n",
       "    </tr>\n",
       "    <tr>\n",
       "      <th>2022</th>\n",
       "      <td>5696.0215</td>\n",
       "      <td>508.319</td>\n",
       "      <td>5226.940841</td>\n",
       "      <td>469.080659</td>\n",
       "      <td>5187.7025</td>\n",
       "      <td>millions</td>\n",
       "    </tr>\n",
       "  </tbody>\n",
       "</table>\n",
       "</div>"
      ],
      "text/plain": [
       "      total_deaths  covid_deaths  expected_deaths  excess_deaths  \\\n",
       "year                                                               \n",
       "2020    13508.6628      1219.162     11697.270559    1811.392241   \n",
       "2021    13670.8969      1654.330     11496.637260    2174.259640   \n",
       "2022     5696.0215       508.319      5226.940841     469.080659   \n",
       "\n",
       "      non_covid_deaths deaths_million  \n",
       "year                                   \n",
       "2020        12289.5008       millions  \n",
       "2021        12016.5669       millions  \n",
       "2022         5187.7025       millions  "
      ]
     },
     "execution_count": 17,
     "metadata": {},
     "output_type": "execute_result"
    }
   ],
   "source": [
    "year_file['deaths_million'] = 'millions'\n",
    "year_file"
   ]
  },
  {
   "cell_type": "code",
   "execution_count": 18,
   "id": "99a0968e",
   "metadata": {},
   "outputs": [
    {
     "data": {
      "text/html": [
       "<div>\n",
       "<style scoped>\n",
       "    .dataframe tbody tr th:only-of-type {\n",
       "        vertical-align: middle;\n",
       "    }\n",
       "\n",
       "    .dataframe tbody tr th {\n",
       "        vertical-align: top;\n",
       "    }\n",
       "\n",
       "    .dataframe thead th {\n",
       "        text-align: right;\n",
       "    }\n",
       "</style>\n",
       "<table border=\"1\" class=\"dataframe\">\n",
       "  <thead>\n",
       "    <tr style=\"text-align: right;\">\n",
       "      <th></th>\n",
       "      <th>total_deaths</th>\n",
       "      <th>covid_deaths</th>\n",
       "      <th>expected_deaths</th>\n",
       "      <th>excess_deaths</th>\n",
       "      <th>non_covid_deaths</th>\n",
       "      <th>death_10k</th>\n",
       "    </tr>\n",
       "    <tr>\n",
       "      <th>month</th>\n",
       "      <th></th>\n",
       "      <th></th>\n",
       "      <th></th>\n",
       "      <th></th>\n",
       "      <th></th>\n",
       "      <th></th>\n",
       "    </tr>\n",
       "  </thead>\n",
       "  <tbody>\n",
       "    <tr>\n",
       "      <th>1</th>\n",
       "      <td>3814254.1</td>\n",
       "      <td>488474</td>\n",
       "      <td>3.245971e+06</td>\n",
       "      <td>568283.222294</td>\n",
       "      <td>3325780.1</td>\n",
       "      <td>tenThsnd</td>\n",
       "    </tr>\n",
       "    <tr>\n",
       "      <th>2</th>\n",
       "      <td>3119717.1</td>\n",
       "      <td>367092</td>\n",
       "      <td>2.899179e+06</td>\n",
       "      <td>220538.356204</td>\n",
       "      <td>2752625.1</td>\n",
       "      <td>tenThsnd</td>\n",
       "    </tr>\n",
       "    <tr>\n",
       "      <th>3</th>\n",
       "      <td>3441103.2</td>\n",
       "      <td>327925</td>\n",
       "      <td>3.150416e+06</td>\n",
       "      <td>290687.413976</td>\n",
       "      <td>3113178.2</td>\n",
       "      <td>tenThsnd</td>\n",
       "    </tr>\n",
       "    <tr>\n",
       "      <th>4</th>\n",
       "      <td>3013393.3</td>\n",
       "      <td>367172</td>\n",
       "      <td>2.598328e+06</td>\n",
       "      <td>415065.090880</td>\n",
       "      <td>2646221.3</td>\n",
       "      <td>tenThsnd</td>\n",
       "    </tr>\n",
       "    <tr>\n",
       "      <th>5</th>\n",
       "      <td>3066692.5</td>\n",
       "      <td>252806</td>\n",
       "      <td>2.784071e+06</td>\n",
       "      <td>282621.703701</td>\n",
       "      <td>2813886.5</td>\n",
       "      <td>tenThsnd</td>\n",
       "    </tr>\n",
       "    <tr>\n",
       "      <th>6</th>\n",
       "      <td>2496349.1</td>\n",
       "      <td>161654</td>\n",
       "      <td>2.235775e+06</td>\n",
       "      <td>260574.267531</td>\n",
       "      <td>2334695.1</td>\n",
       "      <td>tenThsnd</td>\n",
       "    </tr>\n",
       "    <tr>\n",
       "      <th>7</th>\n",
       "      <td>2053643.1</td>\n",
       "      <td>144799</td>\n",
       "      <td>1.758319e+06</td>\n",
       "      <td>295324.498204</td>\n",
       "      <td>1908844.1</td>\n",
       "      <td>tenThsnd</td>\n",
       "    </tr>\n",
       "    <tr>\n",
       "      <th>8</th>\n",
       "      <td>2507629.8</td>\n",
       "      <td>220546</td>\n",
       "      <td>2.061507e+06</td>\n",
       "      <td>446122.841445</td>\n",
       "      <td>2287083.8</td>\n",
       "      <td>tenThsnd</td>\n",
       "    </tr>\n",
       "    <tr>\n",
       "      <th>9</th>\n",
       "      <td>1965364.3</td>\n",
       "      <td>175256</td>\n",
       "      <td>1.661991e+06</td>\n",
       "      <td>303373.427418</td>\n",
       "      <td>1790108.3</td>\n",
       "      <td>tenThsnd</td>\n",
       "    </tr>\n",
       "    <tr>\n",
       "      <th>10</th>\n",
       "      <td>2071703.2</td>\n",
       "      <td>187214</td>\n",
       "      <td>1.755236e+06</td>\n",
       "      <td>316467.228789</td>\n",
       "      <td>1884489.2</td>\n",
       "      <td>tenThsnd</td>\n",
       "    </tr>\n",
       "    <tr>\n",
       "      <th>11</th>\n",
       "      <td>2739608.3</td>\n",
       "      <td>358056</td>\n",
       "      <td>2.167738e+06</td>\n",
       "      <td>571869.892470</td>\n",
       "      <td>2381552.3</td>\n",
       "      <td>tenThsnd</td>\n",
       "    </tr>\n",
       "    <tr>\n",
       "      <th>12</th>\n",
       "      <td>2586123.2</td>\n",
       "      <td>330817</td>\n",
       "      <td>2.102319e+06</td>\n",
       "      <td>483804.597778</td>\n",
       "      <td>2255306.2</td>\n",
       "      <td>tenThsnd</td>\n",
       "    </tr>\n",
       "  </tbody>\n",
       "</table>\n",
       "</div>"
      ],
      "text/plain": [
       "       total_deaths  covid_deaths  expected_deaths  excess_deaths  \\\n",
       "month                                                               \n",
       "1         3814254.1        488474     3.245971e+06  568283.222294   \n",
       "2         3119717.1        367092     2.899179e+06  220538.356204   \n",
       "3         3441103.2        327925     3.150416e+06  290687.413976   \n",
       "4         3013393.3        367172     2.598328e+06  415065.090880   \n",
       "5         3066692.5        252806     2.784071e+06  282621.703701   \n",
       "6         2496349.1        161654     2.235775e+06  260574.267531   \n",
       "7         2053643.1        144799     1.758319e+06  295324.498204   \n",
       "8         2507629.8        220546     2.061507e+06  446122.841445   \n",
       "9         1965364.3        175256     1.661991e+06  303373.427418   \n",
       "10        2071703.2        187214     1.755236e+06  316467.228789   \n",
       "11        2739608.3        358056     2.167738e+06  571869.892470   \n",
       "12        2586123.2        330817     2.102319e+06  483804.597778   \n",
       "\n",
       "       non_covid_deaths death_10k  \n",
       "month                              \n",
       "1             3325780.1  tenThsnd  \n",
       "2             2752625.1  tenThsnd  \n",
       "3             3113178.2  tenThsnd  \n",
       "4             2646221.3  tenThsnd  \n",
       "5             2813886.5  tenThsnd  \n",
       "6             2334695.1  tenThsnd  \n",
       "7             1908844.1  tenThsnd  \n",
       "8             2287083.8  tenThsnd  \n",
       "9             1790108.3  tenThsnd  \n",
       "10            1884489.2  tenThsnd  \n",
       "11            2381552.3  tenThsnd  \n",
       "12            2255306.2  tenThsnd  "
      ]
     },
     "execution_count": 18,
     "metadata": {},
     "output_type": "execute_result"
    }
   ],
   "source": [
    "month_file['death_10k'] = 'tenThsnd'\n",
    "month_file"
   ]
  },
  {
   "cell_type": "code",
   "execution_count": 29,
   "id": "efc244c5",
   "metadata": {},
   "outputs": [
    {
     "name": "stdout",
     "output_type": "stream",
     "text": [
      "[3814254 3119717 3441103 3013393 3066692 2496349 2053643 2507629 1965364\n",
      " 2071703 2739608 2586123]\n"
     ]
    }
   ],
   "source": [
    "td1 = np.array(month_file['total_deaths'])\n",
    "cd1 = np.array(month_file['covid_deaths'])\n",
    "td2 = np.array(year_file['total_deaths'])\n",
    "cd2 = np.array(year_file['covid_deaths'])\n",
    "mon = np.array([1, 2, 3, 4, 5, 6, 7, 8, 9, 10, 11, 12])\n",
    "td1 = td1.astype('int32')\n",
    "print(td1)"
   ]
  },
  {
   "cell_type": "code",
   "execution_count": 30,
   "id": "d79f6a52",
   "metadata": {
    "scrolled": true
   },
   "outputs": [
    {
     "data": {
      "text/plain": [
       "Text(0, 0.5, 'Total Deaths')"
      ]
     },
     "execution_count": 30,
     "metadata": {},
     "output_type": "execute_result"
    },
    {
     "data": {
      "image/png": "[encoded data removed]",
      "text/plain": [
       "<Figure size 432x288 with 1 Axes>"
      ]
     },
     "metadata": {
      "needs_background": "light"
     },
     "output_type": "display_data"
    }
   ],
   "source": [
    "plt.bar(mon, td1)\n",
    "plt.xlabel('Month')\n",
    "plt.ylabel('Total Deaths')"
   ]
  },
  {
   "cell_type": "code",
   "execution_count": 31,
   "id": "0a911375",
   "metadata": {},
   "outputs": [
    {
     "data": {
      "text/plain": [
       "Text(0, 0.5, 'Covid Deaths')"
      ]
     },
     "execution_count": 31,
     "metadata": {},
     "output_type": "execute_result"
    },
    {
     "data": {
      "image/png": "[encoded data removed]",
      "text/plain": [
       "<Figure size 432x288 with 1 Axes>"
      ]
     },
     "metadata": {
      "needs_background": "light"
     },
     "output_type": "display_data"
    }
   ],
   "source": [
    "plt.bar(mon, cd1, color=['red'])\n",
    "plt.xlabel('Month')\n",
    "plt.ylabel('Covid Deaths')"
   ]
  },
  {
   "cell_type": "code",
   "execution_count": 32,
   "id": "481fab33",
   "metadata": {},
   "outputs": [
    {
     "data": {
      "text/plain": [
       "(12, 2)"
      ]
     },
     "execution_count": 32,
     "metadata": {},
     "output_type": "execute_result"
    }
   ],
   "source": [
    "new_month_file = month_file[['total_deaths', 'covid_deaths']]\n",
    "new_month_file.shape"
   ]
  },
  {
   "cell_type": "code",
   "execution_count": 33,
   "id": "eb01b272",
   "metadata": {},
   "outputs": [],
   "source": [
    "new_month_file = new_month_file / 10"
   ]
  },
  {
   "cell_type": "code",
   "execution_count": 34,
   "id": "021c1b4b",
   "metadata": {},
   "outputs": [
    {
     "data": {
      "text/html": [
       "<div>\n",
       "<style scoped>\n",
       "    .dataframe tbody tr th:only-of-type {\n",
       "        vertical-align: middle;\n",
       "    }\n",
       "\n",
       "    .dataframe tbody tr th {\n",
       "        vertical-align: top;\n",
       "    }\n",
       "\n",
       "    .dataframe thead th {\n",
       "        text-align: right;\n",
       "    }\n",
       "</style>\n",
       "<table border=\"1\" class=\"dataframe\">\n",
       "  <thead>\n",
       "    <tr style=\"text-align: right;\">\n",
       "      <th></th>\n",
       "      <th>total_deaths</th>\n",
       "      <th>covid_deaths</th>\n",
       "    </tr>\n",
       "    <tr>\n",
       "      <th>month</th>\n",
       "      <th></th>\n",
       "      <th></th>\n",
       "    </tr>\n",
       "  </thead>\n",
       "  <tbody>\n",
       "    <tr>\n",
       "      <th>1</th>\n",
       "      <td>381425.41</td>\n",
       "      <td>48847.4</td>\n",
       "    </tr>\n",
       "    <tr>\n",
       "      <th>2</th>\n",
       "      <td>311971.71</td>\n",
       "      <td>36709.2</td>\n",
       "    </tr>\n",
       "    <tr>\n",
       "      <th>3</th>\n",
       "      <td>344110.32</td>\n",
       "      <td>32792.5</td>\n",
       "    </tr>\n",
       "    <tr>\n",
       "      <th>4</th>\n",
       "      <td>301339.33</td>\n",
       "      <td>36717.2</td>\n",
       "    </tr>\n",
       "    <tr>\n",
       "      <th>5</th>\n",
       "      <td>306669.25</td>\n",
       "      <td>25280.6</td>\n",
       "    </tr>\n",
       "    <tr>\n",
       "      <th>6</th>\n",
       "      <td>249634.91</td>\n",
       "      <td>16165.4</td>\n",
       "    </tr>\n",
       "    <tr>\n",
       "      <th>7</th>\n",
       "      <td>205364.31</td>\n",
       "      <td>14479.9</td>\n",
       "    </tr>\n",
       "    <tr>\n",
       "      <th>8</th>\n",
       "      <td>250762.98</td>\n",
       "      <td>22054.6</td>\n",
       "    </tr>\n",
       "    <tr>\n",
       "      <th>9</th>\n",
       "      <td>196536.43</td>\n",
       "      <td>17525.6</td>\n",
       "    </tr>\n",
       "    <tr>\n",
       "      <th>10</th>\n",
       "      <td>207170.32</td>\n",
       "      <td>18721.4</td>\n",
       "    </tr>\n",
       "    <tr>\n",
       "      <th>11</th>\n",
       "      <td>273960.83</td>\n",
       "      <td>35805.6</td>\n",
       "    </tr>\n",
       "    <tr>\n",
       "      <th>12</th>\n",
       "      <td>258612.32</td>\n",
       "      <td>33081.7</td>\n",
       "    </tr>\n",
       "  </tbody>\n",
       "</table>\n",
       "</div>"
      ],
      "text/plain": [
       "       total_deaths  covid_deaths\n",
       "month                            \n",
       "1         381425.41       48847.4\n",
       "2         311971.71       36709.2\n",
       "3         344110.32       32792.5\n",
       "4         301339.33       36717.2\n",
       "5         306669.25       25280.6\n",
       "6         249634.91       16165.4\n",
       "7         205364.31       14479.9\n",
       "8         250762.98       22054.6\n",
       "9         196536.43       17525.6\n",
       "10        207170.32       18721.4\n",
       "11        273960.83       35805.6\n",
       "12        258612.32       33081.7"
      ]
     },
     "execution_count": 34,
     "metadata": {},
     "output_type": "execute_result"
    }
   ],
   "source": [
    "new_month_file"
   ]
  },
  {
   "cell_type": "code",
   "execution_count": 35,
   "id": "030070a9",
   "metadata": {},
   "outputs": [
    {
     "data": {
      "image/png": "[encoded data removed]",
      "text/plain": [
       "<Figure size 432x288 with 1 Axes>"
      ]
     },
     "metadata": {
      "needs_background": "light"
     },
     "output_type": "display_data"
    }
   ],
   "source": [
    "plt.bar(mon, new_month_file['total_deaths'], alpha=0.5, color='blue')\n",
    "plt.bar(mon, new_month_file['covid_deaths'], alpha=0.9, color='red')\n",
    "plt.xlabel('Month')\n",
    "plt.ylabel('Deaths')\n",
    "plt.legend(['Total Deaths', 'Covid Deaths'])\n",
    "plt.show()"
   ]
  },
  {
   "cell_type": "code",
   "execution_count": 36,
   "id": "a6b6ad16",
   "metadata": {},
   "outputs": [
    {
     "data": {
      "image/png": "[encoded data removed]",
      "text/plain": [
       "<Figure size 432x288 with 1 Axes>"
      ]
     },
     "metadata": {
      "needs_background": "light"
     },
     "output_type": "display_data"
    }
   ],
   "source": [
    "new_month_file['ratio'] = new_month_file['total_deaths'] / new_month_file['covid_deaths']\n",
    "plt.plot(mon, new_month_file['ratio'], marker='o', markerfacecolor='red', color='orange', linestyle='solid')\n",
    "plt.title('Monthly Positivity Ratio')\n",
    "plt.xlabel('Month')\n",
    "plt.ylabel('Positivity Ratio')\n",
    "plt.show()"
   ]
  },
  {
   "cell_type": "code",
   "execution_count": 42,
   "id": "97afe299",
   "metadata": {},
   "outputs": [
    {
     "data": {
      "text/html": [
       "<div>\n",
       "<style scoped>\n",
       "    .dataframe tbody tr th:only-of-type {\n",
       "        vertical-align: middle;\n",
       "    }\n",
       "\n",
       "    .dataframe tbody tr th {\n",
       "        vertical-align: top;\n",
       "    }\n",
       "\n",
       "    .dataframe thead th {\n",
       "        text-align: right;\n",
       "    }\n",
       "</style>\n",
       "<table border=\"1\" class=\"dataframe\">\n",
       "  <thead>\n",
       "    <tr style=\"text-align: right;\">\n",
       "      <th></th>\n",
       "      <th>total_deaths</th>\n",
       "      <th>covid_deaths</th>\n",
       "      <th>ratio</th>\n",
       "    </tr>\n",
       "    <tr>\n",
       "      <th>year</th>\n",
       "      <th></th>\n",
       "      <th></th>\n",
       "      <th></th>\n",
       "    </tr>\n",
       "  </thead>\n",
       "  <tbody>\n",
       "    <tr>\n",
       "      <th>2020</th>\n",
       "      <td>135.086628</td>\n",
       "      <td>12.19162</td>\n",
       "      <td>11.080285</td>\n",
       "    </tr>\n",
       "    <tr>\n",
       "      <th>2021</th>\n",
       "      <td>136.708969</td>\n",
       "      <td>16.54330</td>\n",
       "      <td>8.263706</td>\n",
       "    </tr>\n",
       "    <tr>\n",
       "      <th>2022</th>\n",
       "      <td>56.960215</td>\n",
       "      <td>5.08319</td>\n",
       "      <td>11.205604</td>\n",
       "    </tr>\n",
       "  </tbody>\n",
       "</table>\n",
       "</div>"
      ],
      "text/plain": [
       "      total_deaths  covid_deaths      ratio\n",
       "year                                       \n",
       "2020    135.086628      12.19162  11.080285\n",
       "2021    136.708969      16.54330   8.263706\n",
       "2022     56.960215       5.08319  11.205604"
      ]
     },
     "execution_count": 42,
     "metadata": {},
     "output_type": "execute_result"
    }
   ],
   "source": [
    "new_year_file = year_file[['total_deaths', 'covid_deaths']] / 100\n",
    "new_year_file['ratio'] = new_year_file['total_deaths'] / new_year_file['covid_deaths']\n",
    "new_year_file"
   ]
  },
  {
   "cell_type": "code",
   "execution_count": 46,
   "id": "76ba1710",
   "metadata": {},
   "outputs": [
    {
     "name": "stdout",
     "output_type": "stream",
     "text": [
      "15.442544570502431 11.20560415801888\n"
     ]
    }
   ],
   "source": [
    "ratio1 = max(new_month_file['ratio'])\n",
    "ratio2 = max(new_year_file['ratio'])\n",
    "print(ratio1, ratio2)"
   ]
  },
  {
   "cell_type": "code",
   "execution_count": 64,
   "id": "6cbaa2eb",
   "metadata": {},
   "outputs": [
    {
     "data": {
      "text/html": [
       "<div>\n",
       "<style scoped>\n",
       "    .dataframe tbody tr th:only-of-type {\n",
       "        vertical-align: middle;\n",
       "    }\n",
       "\n",
       "    .dataframe tbody tr th {\n",
       "        vertical-align: top;\n",
       "    }\n",
       "\n",
       "    .dataframe thead th {\n",
       "        text-align: right;\n",
       "    }\n",
       "</style>\n",
       "<table border=\"1\" class=\"dataframe\">\n",
       "  <thead>\n",
       "    <tr style=\"text-align: right;\">\n",
       "      <th></th>\n",
       "      <th>total_deaths</th>\n",
       "      <th>expected_deaths</th>\n",
       "      <th>excess_deaths</th>\n",
       "    </tr>\n",
       "  </thead>\n",
       "  <tbody>\n",
       "    <tr>\n",
       "      <th>0</th>\n",
       "      <td>2926.0</td>\n",
       "      <td>2965.372893</td>\n",
       "      <td>-39.372893</td>\n",
       "    </tr>\n",
       "    <tr>\n",
       "      <th>1</th>\n",
       "      <td>2902.0</td>\n",
       "      <td>2956.539560</td>\n",
       "      <td>-54.539560</td>\n",
       "    </tr>\n",
       "    <tr>\n",
       "      <th>2</th>\n",
       "      <td>2914.0</td>\n",
       "      <td>2932.039560</td>\n",
       "      <td>-18.039560</td>\n",
       "    </tr>\n",
       "    <tr>\n",
       "      <th>3</th>\n",
       "      <td>3007.0</td>\n",
       "      <td>2940.372893</td>\n",
       "      <td>66.627107</td>\n",
       "    </tr>\n",
       "    <tr>\n",
       "      <th>4</th>\n",
       "      <td>2910.0</td>\n",
       "      <td>2900.039560</td>\n",
       "      <td>9.960440</td>\n",
       "    </tr>\n",
       "    <tr>\n",
       "      <th>...</th>\n",
       "      <td>...</td>\n",
       "      <td>...</td>\n",
       "      <td>...</td>\n",
       "    </tr>\n",
       "    <tr>\n",
       "      <th>5765</th>\n",
       "      <td>57864.0</td>\n",
       "      <td>55510.914407</td>\n",
       "      <td>2353.085593</td>\n",
       "    </tr>\n",
       "    <tr>\n",
       "      <th>5766</th>\n",
       "      <td>57523.0</td>\n",
       "      <td>54958.314407</td>\n",
       "      <td>2564.685593</td>\n",
       "    </tr>\n",
       "    <tr>\n",
       "      <th>5767</th>\n",
       "      <td>56959.0</td>\n",
       "      <td>54850.514407</td>\n",
       "      <td>2108.485593</td>\n",
       "    </tr>\n",
       "    <tr>\n",
       "      <th>5768</th>\n",
       "      <td>57545.0</td>\n",
       "      <td>54459.714407</td>\n",
       "      <td>3085.285593</td>\n",
       "    </tr>\n",
       "    <tr>\n",
       "      <th>5769</th>\n",
       "      <td>57710.0</td>\n",
       "      <td>54923.314407</td>\n",
       "      <td>2786.685593</td>\n",
       "    </tr>\n",
       "  </tbody>\n",
       "</table>\n",
       "<p>5770 rows × 3 columns</p>\n",
       "</div>"
      ],
      "text/plain": [
       "      total_deaths  expected_deaths  excess_deaths\n",
       "0           2926.0      2965.372893     -39.372893\n",
       "1           2902.0      2956.539560     -54.539560\n",
       "2           2914.0      2932.039560     -18.039560\n",
       "3           3007.0      2940.372893      66.627107\n",
       "4           2910.0      2900.039560       9.960440\n",
       "...            ...              ...            ...\n",
       "5765       57864.0     55510.914407    2353.085593\n",
       "5766       57523.0     54958.314407    2564.685593\n",
       "5767       56959.0     54850.514407    2108.485593\n",
       "5768       57545.0     54459.714407    3085.285593\n",
       "5769       57710.0     54923.314407    2786.685593\n",
       "\n",
       "[5770 rows x 3 columns]"
      ]
     },
     "execution_count": 64,
     "metadata": {},
     "output_type": "execute_result"
    }
   ],
   "source": [
    "deaths1 = data[['total_deaths', 'expected_deaths', 'excess_deaths']]\n",
    "deaths1"
   ]
  },
  {
   "cell_type": "code",
   "execution_count": null,
   "id": "8bb46a05",
   "metadata": {},
   "outputs": [],
   "source": [
    "deaths1 =deaths1 /10"
   ]
  },
  {
   "cell_type": "code",
   "execution_count": 69,
   "id": "e66a8206",
   "metadata": {},
   "outputs": [],
   "source": [
    "d1 = np.array(deaths1['total_deaths'])\n",
    "d2 = np.array(deaths1['expected_deaths'])\n",
    "d3 = np.array(deaths1['excess_deaths'])"
   ]
  },
  {
   "cell_type": "code",
   "execution_count": 67,
   "id": "b72fd8a6",
   "metadata": {},
   "outputs": [
    {
     "data": {
      "text/plain": [
       "(5770,)"
      ]
     },
     "execution_count": 67,
     "metadata": {},
     "output_type": "execute_result"
    }
   ],
   "source": [
    "d2.shape"
   ]
  },
  {
   "cell_type": "code",
   "execution_count": 68,
   "id": "981f85b9",
   "metadata": {},
   "outputs": [
    {
     "data": {
      "text/plain": [
       "(5770,)"
      ]
     },
     "execution_count": 68,
     "metadata": {},
     "output_type": "execute_result"
    }
   ],
   "source": [
    "d4 = d2/d1\n",
    "d5 = d3/d1\n",
    "d4.shape"
   ]
  },
  {
   "cell_type": "code",
   "execution_count": 73,
   "id": "e91a2fa1",
   "metadata": {},
   "outputs": [
    {
     "data": {
      "text/plain": [
       "<matplotlib.legend.Legend at 0x1e246abfa30>"
      ]
     },
     "execution_count": 73,
     "metadata": {},
     "output_type": "execute_result"
    },
    {
     "data": {
      "image/png": "[encoded data removed]",
      "text/plain": [
       "<Figure size 432x288 with 1 Axes>"
      ]
     },
     "metadata": {
      "needs_background": "light"
     },
     "output_type": "display_data"
    }
   ],
   "source": [
    "plt.plot(d2, color='lightblue', linestyle='solid')\n",
    "plt.plot(d3, color='blue', linestyle='solid')\n",
    "plt.legend(['Expected Death Ratio', 'Excess Death Ratio'])"
   ]
  },
  {
   "cell_type": "code",
   "execution_count": 82,
   "id": "397ebbec",
   "metadata": {},
   "outputs": [
    {
     "data": {
      "text/plain": [
       "<seaborn.axisgrid.PairGrid at 0x1e249e55c40>"
      ]
     },
     "execution_count": 82,
     "metadata": {},
     "output_type": "execute_result"
    },
    {
     "data": {
      "image/png": "[encoded data removed]",
      "text/plain": [
       "<Figure size 613.75x540 with 12 Axes>"
      ]
     },
     "metadata": {
      "needs_background": "light"
     },
     "output_type": "display_data"
    }
   ],
   "source": [
    "a1 = data[['covid_deaths', 'non_covid_deaths', 'excess_deaths', 'expected_deaths']]\n",
    "sn.pairplot(a1, hue='covid_deaths')"
   ]
  }
 ],
 "metadata": {
  "kernelspec": {
   "display_name": "Python 3.10.6 64-bit (windows store)",
   "language": "python",
   "name": "python3"
  },
  "language_info": {
   "codemirror_mode": {
    "name": "ipython",
    "version": 3
   },
   "file_extension": ".py",
   "mimetype": "text/x-python",
   "name": "python",
   "nbconvert_exporter": "python",
   "pygments_lexer": "ipython3",
   "version": "3.10.6"
  },
  "vscode": {
   "interpreter": {
    "hash": "87970ed34195fef68c8464c6d4e1428c2376dd29de258c9c3dc6f07b1b1cbaab"
   }
  }
 },
 "nbformat": 4,
 "nbformat_minor": 5
}
